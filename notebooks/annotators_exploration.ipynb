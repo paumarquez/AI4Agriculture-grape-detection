{
 "cells": [
  {
   "cell_type": "code",
   "execution_count": 1,
   "id": "demographic-manor",
   "metadata": {},
   "outputs": [],
   "source": [
    "from matplotlib import pyplot as plt\n",
    "import matplotlib.patches as patches\n",
    "import numpy as np\n",
    "import pandas as pd\n",
    "import os\n",
    "from skimage import io\n",
    "import mmcv\n",
    "import xmltodict\n",
    "import seaborn as sns\n",
    "import json\n",
    "from scipy.stats import hmean"
   ]
  },
  {
   "cell_type": "code",
   "execution_count": 2,
   "id": "drawn-transparency",
   "metadata": {},
   "outputs": [],
   "source": [
    "from PIL import ImageFile\n",
    "ImageFile.LOAD_TRUNCATED_IMAGES = True"
   ]
  },
  {
   "cell_type": "code",
   "execution_count": 3,
   "id": "victorian-banking",
   "metadata": {},
   "outputs": [],
   "source": [
    "AGGREGATED_DATA_PATH='../data/aggregated_labels/'\n",
    "IMAGE_DATA_PATH='../data/complete_dataset/'\n",
    "IOU_THRESHOLD = 0.7"
   ]
  },
  {
   "cell_type": "code",
   "execution_count": 4,
   "id": "norman-destination",
   "metadata": {},
   "outputs": [],
   "source": [
    "def display_image_w_bbox(image_id, annotators = None, colors_annotators = ['blue','red','pink','brown','black','grey', 'white', 'yellow']):\n",
    "    im = io.imread(os.path.join(IMAGE_DATA_PATH, f'{image_id}.jpg'))\n",
    "    bboxes = get_image_info(image_id)\n",
    "\n",
    "    if annotators is None:\n",
    "        annotators = bboxes['annotator'].unique()\n",
    "        \n",
    "    fig, ax = plt.subplots(figsize=(20,30))\n",
    "    ax.imshow(im)\n",
    "    for bbox in bboxes[bboxes['annotator'].isin(annotators)].values:\n",
    "        annotator = bbox[0]\n",
    "        bbox = bbox[1:]\n",
    "        rect = patches.Rectangle((bbox[0], bbox[1]), bbox[2]-bbox[0], bbox[3]-bbox[1], linewidth=1, edgecolor=colors_annotators[annotator], facecolor='none')\n",
    "        \n",
    "        ax.add_patch(rect)\n",
    "    plt.title(f'(w, h) = ()')\n",
    "    fig.show()"
   ]
  },
  {
   "cell_type": "code",
   "execution_count": 5,
   "id": "alert-niger",
   "metadata": {},
   "outputs": [],
   "source": [
    "def bbox_intersect(a, b):\n",
    "    x1 = max(a[0], b[0])\n",
    "    y1 = max(a[1], b[1])\n",
    "    x2 = min(a[2], b[2])\n",
    "    y2 = min(a[3], b[3])\n",
    "\n",
    "    if x2 <= x1 or y2 <= y1 : return (0, 0, 0, 0) # None\n",
    "\n",
    "    return (x1, y1, x2, y2)\n",
    "\n",
    "def bbox_area(a)            : return (a[2] - a[0]) * (a[3] - a[1])\n",
    "\n",
    "def bbox_IoU(a, b, return_area_a=False):\n",
    "    inter = bbox_area(bbox_intersect(a, b))\n",
    "    area_a = bbox_area(a)\n",
    "    area_b = bbox_area(b)\n",
    "    if area_a == 0 or area_b == 0:\n",
    "        iou = 1\n",
    "    else:\n",
    "        iou = inter / (area_a + area_b - inter)\n",
    "    if return_area_a:\n",
    "        return iou, area_a\n",
    "    else:\n",
    "        return iou"
   ]
  },
  {
   "cell_type": "code",
   "execution_count": 6,
   "id": "demonstrated-printer",
   "metadata": {
    "tags": []
   },
   "outputs": [],
   "source": [
    "    def get_masks_from_boxes(results_boxes, target_boxes):\n",
    "        def add_mask(mask, boxes):\n",
    "            for box in boxes:\n",
    "                mask[box[1]:box[3], box[0]:box[2]] = 1\n",
    "        all_boxes = np.concatenate([results_boxes, target_boxes])\n",
    "\n",
    "        width, height = all_boxes.max(0)[[2,3]]\n",
    "\n",
    "        pred_mask = np.zeros((height, width))\n",
    "        target_mask = np.zeros((height, width))\n",
    "        add_mask(pred_mask, results_boxes)\n",
    "        add_mask(target_mask, target_boxes)\n",
    "\n",
    "        return pred_mask, target_mask\n",
    "\n",
    "    def get_metrics_from_masks(pred_mask, target_mask):\n",
    "        tp = np.sum(pred_mask * target_mask)\n",
    "        fp = np.sum(pred_mask * (1-target_mask))\n",
    "        recall = tp/target_mask.sum()\n",
    "        precision = tp/(tp+fp)\n",
    "        f1_score = hmean([recall, precision])\n",
    "        return recall, precision, f1_score\n",
    "\n",
    "    def get_mask_metrics(results, target):\n",
    "        pred_mask, target_mask = get_masks_from_boxes(results, target)\n",
    "        return get_metrics_from_masks(pred_mask, target_mask)"
   ]
  },
  {
   "cell_type": "code",
   "execution_count": 7,
   "id": "copyrighted-taxation",
   "metadata": {},
   "outputs": [],
   "source": [
    "def get_all_mask_metrics(image_ids):\n",
    "    mask_metrics=[]\n",
    "    for i, image_id in enumerate(image_ids):\n",
    "        if not i % 10:\n",
    "            print(f'left {len(image_ids) - i} images')\n",
    "        bboxes = get_image_info(image_id)\n",
    "        annotators = bboxes[\"annotator\"].unique()\n",
    "        for ann in annotators:\n",
    "            bb_ann = bboxes[bboxes[\"annotator\"] == ann][['xmin', 'ymin', 'xmax', 'ymax']]\n",
    "            for ann2 in annotators:\n",
    "                if ann2 < ann:\n",
    "                    bb_ann2 = bboxes[bboxes[\"annotator\"] == ann2][['xmin', 'ymin', 'xmax', 'ymax']]\n",
    "                    recall, precision, f1 = get_mask_metrics(bb_ann.values, bb_ann2.values)\n",
    "                    mask_metrics.append((image_id, ann, ann2, recall, precision, f1))\n",
    "                    mask_metrics.append((image_id, ann2, ann, precision, recall, f1))\n",
    "    return pd.DataFrame(mask_metrics, columns=['image_id', 'ann_pred', 'ann_gt', 'recall', 'precision', 'f1'])"
   ]
  },
  {
   "cell_type": "code",
   "execution_count": 8,
   "id": "thrown-bhutan",
   "metadata": {},
   "outputs": [],
   "source": [
    "def get_image_info(image_id, get_shape=False):\n",
    "    with open(os.path.join(AGGREGATED_DATA_PATH, f'{image_id}_aggregated.xml'), 'rb') as fd:\n",
    "        xml_dict = xmltodict.parse(fd)\n",
    "    shape = xml_dict[\"annotation\"][\"size\"].values()\n",
    "    bboxes = pd.DataFrame(\n",
    "        [(r['name'], *r['bndbox'].values()) for r in xml_dict[\"annotation\"][\"object\"]],\n",
    "        columns=['annotator', 'xmin', 'ymin', 'xmax', 'ymax']).astype(np.int)\n",
    "    if get_shape:\n",
    "        return bboxes, shape\n",
    "    return bboxes\n",
    "def get_iou_annotator(image_ids):\n",
    "    all_iou=[]\n",
    "    for i, image_id in enumerate(image_ids):\n",
    "        if not i % 10:\n",
    "            print(f'left {len(image_ids) - i} images')\n",
    "        bboxes = get_image_info(image_id)\n",
    "        for ann in bboxes[\"annotator\"].unique():\n",
    "            bb_an = bboxes[bboxes[\"annotator\"] == ann][['xmin', 'ymin', 'xmax', 'ymax']]\n",
    "            mask_metrics.append((image_id, ann, bb_an, *get_mask_metrics(bb_an, bboxes)))\n",
    "            for i, bbox in enumerate(bb_an.values):\n",
    "                for _, bbox_2 in bboxes.iterrows():\n",
    "                    all_iou.append((\n",
    "                        image_id,\n",
    "                        ann,\n",
    "                        bbox_2['annotator'],\n",
    "                        i,\n",
    "                        *bbox_IoU(\n",
    "                            bbox,\n",
    "                            bbox_2[['xmin', 'ymin', 'xmax', 'ymax']],\n",
    "                            return_area_a=True\n",
    "                        )\n",
    "                    ))\n",
    "    return all_iou"
   ]
  },
  {
   "cell_type": "code",
   "execution_count": 9,
   "id": "approximate-redhead",
   "metadata": {},
   "outputs": [],
   "source": [
    "image_ids = list(set([file.split('_')[0] for file in os.listdir(AGGREGATED_DATA_PATH) if file != 'classes.txt']))"
   ]
  },
  {
   "cell_type": "code",
   "execution_count": 10,
   "id": "quick-finish",
   "metadata": {
    "tags": []
   },
   "outputs": [],
   "source": [
    "if os.path.isfile('../data/cache_files/annotators_iou.json'):\n",
    "    with open('../data/cache_files/annotators_iou.json', 'r') as fd:\n",
    "        all_iou = json.load(fd)\n",
    "else:\n",
    "    all_iou = get_iou_annotator(image_ids)\n",
    "    with open('../data/cache_files/annotators_iou.json', 'w') as fd:\n",
    "        json_serializable_all_iou = [(str(iou[0]), int(iou[1]), int(iou[2]), int(iou[3]), float(iou[4]), int(iou[5])) for iou in all_iou]\n",
    "        json.dump(json_serializable_all_iou, fd)\n",
    "        del json_serializable_all_iou"
   ]
  },
  {
   "cell_type": "code",
   "execution_count": 11,
   "id": "personal-albert",
   "metadata": {},
   "outputs": [],
   "source": [
    "d_iou = pd.DataFrame(all_iou, columns=[\"filename\", \"annotator_1\", \"annotator_2\", \"bbox_1_id\", \"iou\", \"area_1\"])\n",
    "d_iou = d_iou[d_iou['iou'] != 0]"
   ]
  },
  {
   "cell_type": "code",
   "execution_count": 12,
   "id": "occasional-channel",
   "metadata": {},
   "outputs": [
    {
     "data": {
      "text/plain": [
       "'1597915750573'"
      ]
     },
     "execution_count": 12,
     "metadata": {},
     "output_type": "execute_result"
    }
   ],
   "source": [
    "image_ids[2]"
   ]
  },
  {
   "cell_type": "code",
   "execution_count": 13,
   "id": "generic-demand",
   "metadata": {},
   "outputs": [
    {
     "data": {
      "text/html": [
       "<div>\n",
       "<style scoped>\n",
       "    .dataframe tbody tr th:only-of-type {\n",
       "        vertical-align: middle;\n",
       "    }\n",
       "\n",
       "    .dataframe tbody tr th {\n",
       "        vertical-align: top;\n",
       "    }\n",
       "\n",
       "    .dataframe thead th {\n",
       "        text-align: right;\n",
       "    }\n",
       "</style>\n",
       "<table border=\"1\" class=\"dataframe\">\n",
       "  <thead>\n",
       "    <tr style=\"text-align: right;\">\n",
       "      <th></th>\n",
       "      <th>filename</th>\n",
       "      <th>annotator_1</th>\n",
       "      <th>annotator_2</th>\n",
       "      <th>bbox_1_id</th>\n",
       "      <th>iou</th>\n",
       "      <th>area_1</th>\n",
       "    </tr>\n",
       "  </thead>\n",
       "  <tbody>\n",
       "    <tr>\n",
       "      <th>0</th>\n",
       "      <td>1597921124508</td>\n",
       "      <td>2</td>\n",
       "      <td>2</td>\n",
       "      <td>0</td>\n",
       "      <td>1.000000</td>\n",
       "      <td>13916</td>\n",
       "    </tr>\n",
       "    <tr>\n",
       "      <th>14</th>\n",
       "      <td>1597921124508</td>\n",
       "      <td>2</td>\n",
       "      <td>4</td>\n",
       "      <td>0</td>\n",
       "      <td>0.734654</td>\n",
       "      <td>13916</td>\n",
       "    </tr>\n",
       "    <tr>\n",
       "      <th>28</th>\n",
       "      <td>1597921124508</td>\n",
       "      <td>2</td>\n",
       "      <td>2</td>\n",
       "      <td>1</td>\n",
       "      <td>1.000000</td>\n",
       "      <td>5880</td>\n",
       "    </tr>\n",
       "    <tr>\n",
       "      <th>42</th>\n",
       "      <td>1597921124508</td>\n",
       "      <td>2</td>\n",
       "      <td>4</td>\n",
       "      <td>1</td>\n",
       "      <td>0.566445</td>\n",
       "      <td>5880</td>\n",
       "    </tr>\n",
       "    <tr>\n",
       "      <th>56</th>\n",
       "      <td>1597921124508</td>\n",
       "      <td>2</td>\n",
       "      <td>2</td>\n",
       "      <td>2</td>\n",
       "      <td>1.000000</td>\n",
       "      <td>20601</td>\n",
       "    </tr>\n",
       "  </tbody>\n",
       "</table>\n",
       "</div>"
      ],
      "text/plain": [
       "         filename  annotator_1  annotator_2  bbox_1_id       iou  area_1\n",
       "0   1597921124508            2            2          0  1.000000   13916\n",
       "14  1597921124508            2            4          0  0.734654   13916\n",
       "28  1597921124508            2            2          1  1.000000    5880\n",
       "42  1597921124508            2            4          1  0.566445    5880\n",
       "56  1597921124508            2            2          2  1.000000   20601"
      ]
     },
     "execution_count": 13,
     "metadata": {},
     "output_type": "execute_result"
    }
   ],
   "source": [
    "d_iou.head()"
   ]
  },
  {
   "cell_type": "code",
   "execution_count": 14,
   "id": "conceptual-scale",
   "metadata": {},
   "outputs": [],
   "source": [
    "intersection_boxes = d_iou[\n",
    "    [\"filename\", \"annotator_1\", \"bbox_1_id\"]\n",
    "].drop_duplicates().groupby(\"filename\")[\"annotator_1\"].apply(lambda x: len(x.unique()))\n",
    "all_intersected_filenames = intersection_boxes[intersection_boxes == 7].index"
   ]
  },
  {
   "cell_type": "code",
   "execution_count": 15,
   "id": "acoustic-welsh",
   "metadata": {},
   "outputs": [
    {
     "name": "stderr",
     "output_type": "stream",
     "text": [
      "/home/usuaris/imatge/pau.marquez/.local/lib/python3.6/site-packages/ipykernel_launcher.py:15: RuntimeWarning: invalid value encountered in true_divide\n",
      "  from ipykernel import kernelapp as app\n"
     ]
    },
    {
     "data": {
      "text/plain": [
       "array([0.02505444, 0.00953642, 0.01843129,        nan, 0.02538169,\n",
       "       0.02490145, 0.03216213, 0.03117065])"
      ]
     },
     "execution_count": 15,
     "metadata": {},
     "output_type": "execute_result"
    }
   ],
   "source": [
    "def add_mask(mask, boxes):\n",
    "    for box in boxes:\n",
    "        mask[box[1]:box[3], box[0]:box[2]] = 1\n",
    "positive_prop_anns = [0]*8\n",
    "positive_count_anns = [0]*8\n",
    "for image_id in all_intersected_filenames.values:\n",
    "    box_info, shape = get_image_info(image_id,get_shape=True)\n",
    "    for ann in box_info[\"annotator\"].unique():\n",
    "        boxes = box_info[ann==box_info[\"annotator\"]].drop(\"annotator\",axis=1).values\n",
    "        mask = np.zeros(tuple(map(int,shape))[:-1])\n",
    "        add_mask(mask, boxes)\n",
    "        positive_prop = mask.sum()/mask.size\n",
    "        positive_prop_anns[ann] += positive_prop\n",
    "        positive_count_anns[ann] += 1\n",
    "total_pos_size_prop = np.array(positive_prop_anns) / np.array(positive_count_anns)\n",
    "total_pos_size_prop"
   ]
  },
  {
   "cell_type": "code",
   "execution_count": 16,
   "id": "permanent-tongue",
   "metadata": {},
   "outputs": [
    {
     "data": {
      "text/html": [
       "<div>\n",
       "<style scoped>\n",
       "    .dataframe tbody tr th:only-of-type {\n",
       "        vertical-align: middle;\n",
       "    }\n",
       "\n",
       "    .dataframe tbody tr th {\n",
       "        vertical-align: top;\n",
       "    }\n",
       "\n",
       "    .dataframe thead th {\n",
       "        text-align: right;\n",
       "    }\n",
       "</style>\n",
       "<table border=\"1\" class=\"dataframe\">\n",
       "  <thead>\n",
       "    <tr style=\"text-align: right;\">\n",
       "      <th></th>\n",
       "      <th>Mean number of boxes</th>\n",
       "      <th>Mean area per box</th>\n",
       "      <th>Mean percentage of positive area per image</th>\n",
       "    </tr>\n",
       "    <tr>\n",
       "      <th>annotator_1</th>\n",
       "      <th></th>\n",
       "      <th></th>\n",
       "      <th></th>\n",
       "    </tr>\n",
       "  </thead>\n",
       "  <tbody>\n",
       "    <tr>\n",
       "      <th>0</th>\n",
       "      <td>18.1</td>\n",
       "      <td>17728</td>\n",
       "      <td>2.51</td>\n",
       "    </tr>\n",
       "    <tr>\n",
       "      <th>1</th>\n",
       "      <td>20.2</td>\n",
       "      <td>6023</td>\n",
       "      <td>0.95</td>\n",
       "    </tr>\n",
       "    <tr>\n",
       "      <th>2</th>\n",
       "      <td>18.3</td>\n",
       "      <td>13139</td>\n",
       "      <td>1.84</td>\n",
       "    </tr>\n",
       "    <tr>\n",
       "      <th>4</th>\n",
       "      <td>25.6</td>\n",
       "      <td>13353</td>\n",
       "      <td>2.54</td>\n",
       "    </tr>\n",
       "    <tr>\n",
       "      <th>5</th>\n",
       "      <td>19.9</td>\n",
       "      <td>16051</td>\n",
       "      <td>2.49</td>\n",
       "    </tr>\n",
       "    <tr>\n",
       "      <th>6</th>\n",
       "      <td>24.0</td>\n",
       "      <td>18093</td>\n",
       "      <td>3.22</td>\n",
       "    </tr>\n",
       "    <tr>\n",
       "      <th>7</th>\n",
       "      <td>24.1</td>\n",
       "      <td>17567</td>\n",
       "      <td>3.12</td>\n",
       "    </tr>\n",
       "  </tbody>\n",
       "</table>\n",
       "</div>"
      ],
      "text/plain": [
       "             Mean number of boxes  Mean area per box  \\\n",
       "annotator_1                                            \n",
       "0                            18.1              17728   \n",
       "1                            20.2               6023   \n",
       "2                            18.3              13139   \n",
       "4                            25.6              13353   \n",
       "5                            19.9              16051   \n",
       "6                            24.0              18093   \n",
       "7                            24.1              17567   \n",
       "\n",
       "             Mean percentage of positive area per image  \n",
       "annotator_1                                              \n",
       "0                                                  2.51  \n",
       "1                                                  0.95  \n",
       "2                                                  1.84  \n",
       "4                                                  2.54  \n",
       "5                                                  2.49  \n",
       "6                                                  3.22  \n",
       "7                                                  3.12  "
      ]
     },
     "execution_count": 16,
     "metadata": {},
     "output_type": "execute_result"
    }
   ],
   "source": [
    "boxes = d_iou[[\"filename\", \"annotator_1\", \"bbox_1_id\"]].drop_duplicates()\n",
    "boxes_intersection = boxes[\n",
    "    boxes.filename.isin(all_intersected_filenames)\n",
    "]\n",
    "mean_box_count = boxes_intersection.groupby([\"filename\", \"annotator_1\"]).size().to_frame().reset_index().groupby(\"annotator_1\").mean().apply(lambda x: round(x,1))\n",
    "boxes = d_iou[[\"filename\", \"annotator_1\", \"bbox_1_id\", \"area_1\"]].drop_duplicates()\n",
    "annotator_area = boxes[boxes.filename.isin(all_intersected_filenames)].groupby(\n",
    "    [\"filename\", \"annotator_1\"]\n",
    ")[\"area_1\"].sum().groupby('annotator_1').mean().astype(int)\n",
    "\n",
    "annotator_basic_stats = pd.concat([mean_box_count, annotator_area],axis=1).rename({\"area_1\": \"Mean positive area per image\", 0: \"Mean number of boxes\"}, axis = 1)\n",
    "annotator_basic_stats[\"Mean area per box\"] = (annotator_basic_stats.iloc[:,1]/ annotator_basic_stats.iloc[:,0]).astype(np.int)\n",
    "annotator_basic_stats[\"Mean percentage of positive area per image\"] = np.round(np.delete(total_pos_size_prop,3) * 100,2)\n",
    "annotator_basic_stats = annotator_basic_stats.drop(\"Mean positive area per image\", axis=1)\n",
    "annotator_basic_stats"
   ]
  },
  {
   "cell_type": "code",
   "execution_count": 17,
   "id": "genetic-ordering",
   "metadata": {},
   "outputs": [
    {
     "name": "stdout",
     "output_type": "stream",
     "text": [
      "left 52 images\n",
      "left 42 images\n",
      "left 32 images\n",
      "left 22 images\n",
      "left 12 images\n",
      "left 2 images\n"
     ]
    }
   ],
   "source": [
    "m_metrics = get_all_mask_metrics(image_ids)"
   ]
  },
  {
   "cell_type": "code",
   "execution_count": 18,
   "id": "israeli-finder",
   "metadata": {},
   "outputs": [],
   "source": [
    "mask_metrics = pd.pivot_table(\n",
    "    m_metrics.groupby(['ann_pred','ann_gt'])[[\"f1\", \"recall\"]].mean(),\n",
    "    index=['ann_pred'],\n",
    "    columns=[\"ann_gt\"]\n",
    ").rename({'recall': 'Mask Recall', 'f1': 'Mask F-score'}, axis=1)"
   ]
  },
  {
   "cell_type": "code",
   "execution_count": 19,
   "id": "classical-productivity",
   "metadata": {},
   "outputs": [
    {
     "data": {
      "text/html": [
       "<div>\n",
       "<style scoped>\n",
       "    .dataframe tbody tr th:only-of-type {\n",
       "        vertical-align: middle;\n",
       "    }\n",
       "\n",
       "    .dataframe tbody tr th {\n",
       "        vertical-align: top;\n",
       "    }\n",
       "\n",
       "    .dataframe thead tr th {\n",
       "        text-align: left;\n",
       "    }\n",
       "\n",
       "    .dataframe thead tr:last-of-type th {\n",
       "        text-align: right;\n",
       "    }\n",
       "</style>\n",
       "<table border=\"1\" class=\"dataframe\">\n",
       "  <thead>\n",
       "    <tr>\n",
       "      <th></th>\n",
       "      <th colspan=\"7\" halign=\"left\">Mask Recall</th>\n",
       "    </tr>\n",
       "    <tr>\n",
       "      <th>ann_gt</th>\n",
       "      <th>0</th>\n",
       "      <th>1</th>\n",
       "      <th>2</th>\n",
       "      <th>4</th>\n",
       "      <th>5</th>\n",
       "      <th>6</th>\n",
       "      <th>7</th>\n",
       "    </tr>\n",
       "    <tr>\n",
       "      <th>ann_pred</th>\n",
       "      <th></th>\n",
       "      <th></th>\n",
       "      <th></th>\n",
       "      <th></th>\n",
       "      <th></th>\n",
       "      <th></th>\n",
       "      <th></th>\n",
       "    </tr>\n",
       "  </thead>\n",
       "  <tbody>\n",
       "    <tr>\n",
       "      <th>0</th>\n",
       "      <td>1.00</td>\n",
       "      <td>0.99</td>\n",
       "      <td>0.86</td>\n",
       "      <td>0.85</td>\n",
       "      <td>0.83</td>\n",
       "      <td>0.72</td>\n",
       "      <td>0.72</td>\n",
       "    </tr>\n",
       "    <tr>\n",
       "      <th>1</th>\n",
       "      <td>0.36</td>\n",
       "      <td>1.00</td>\n",
       "      <td>0.45</td>\n",
       "      <td>0.36</td>\n",
       "      <td>0.36</td>\n",
       "      <td>0.28</td>\n",
       "      <td>0.29</td>\n",
       "    </tr>\n",
       "    <tr>\n",
       "      <th>2</th>\n",
       "      <td>0.64</td>\n",
       "      <td>0.90</td>\n",
       "      <td>1.00</td>\n",
       "      <td>0.62</td>\n",
       "      <td>0.63</td>\n",
       "      <td>0.51</td>\n",
       "      <td>0.52</td>\n",
       "    </tr>\n",
       "    <tr>\n",
       "      <th>4</th>\n",
       "      <td>0.87</td>\n",
       "      <td>0.99</td>\n",
       "      <td>0.85</td>\n",
       "      <td>1.00</td>\n",
       "      <td>0.83</td>\n",
       "      <td>0.74</td>\n",
       "      <td>0.75</td>\n",
       "    </tr>\n",
       "    <tr>\n",
       "      <th>5</th>\n",
       "      <td>0.83</td>\n",
       "      <td>0.98</td>\n",
       "      <td>0.85</td>\n",
       "      <td>0.82</td>\n",
       "      <td>1.00</td>\n",
       "      <td>0.70</td>\n",
       "      <td>0.71</td>\n",
       "    </tr>\n",
       "    <tr>\n",
       "      <th>6</th>\n",
       "      <td>0.95</td>\n",
       "      <td>1.00</td>\n",
       "      <td>0.91</td>\n",
       "      <td>0.96</td>\n",
       "      <td>0.93</td>\n",
       "      <td>1.00</td>\n",
       "      <td>0.89</td>\n",
       "    </tr>\n",
       "    <tr>\n",
       "      <th>7</th>\n",
       "      <td>0.92</td>\n",
       "      <td>0.99</td>\n",
       "      <td>0.88</td>\n",
       "      <td>0.94</td>\n",
       "      <td>0.90</td>\n",
       "      <td>0.85</td>\n",
       "      <td>1.00</td>\n",
       "    </tr>\n",
       "  </tbody>\n",
       "</table>\n",
       "</div>"
      ],
      "text/plain": [
       "         Mask Recall                                    \n",
       "ann_gt             0     1     2     4     5     6     7\n",
       "ann_pred                                                \n",
       "0               1.00  0.99  0.86  0.85  0.83  0.72  0.72\n",
       "1               0.36  1.00  0.45  0.36  0.36  0.28  0.29\n",
       "2               0.64  0.90  1.00  0.62  0.63  0.51  0.52\n",
       "4               0.87  0.99  0.85  1.00  0.83  0.74  0.75\n",
       "5               0.83  0.98  0.85  0.82  1.00  0.70  0.71\n",
       "6               0.95  1.00  0.91  0.96  0.93  1.00  0.89\n",
       "7               0.92  0.99  0.88  0.94  0.90  0.85  1.00"
      ]
     },
     "execution_count": 19,
     "metadata": {},
     "output_type": "execute_result"
    }
   ],
   "source": [
    "mask_metrics[[\"Mask Recall\"]].fillna(1).apply(lambda x: round(x,2))"
   ]
  },
  {
   "cell_type": "code",
   "execution_count": 20,
   "id": "played-christian",
   "metadata": {},
   "outputs": [
    {
     "data": {
      "text/html": [
       "<div>\n",
       "<style scoped>\n",
       "    .dataframe tbody tr th:only-of-type {\n",
       "        vertical-align: middle;\n",
       "    }\n",
       "\n",
       "    .dataframe tbody tr th {\n",
       "        vertical-align: top;\n",
       "    }\n",
       "\n",
       "    .dataframe thead tr th {\n",
       "        text-align: left;\n",
       "    }\n",
       "\n",
       "    .dataframe thead tr:last-of-type th {\n",
       "        text-align: right;\n",
       "    }\n",
       "</style>\n",
       "<table border=\"1\" class=\"dataframe\">\n",
       "  <thead>\n",
       "    <tr>\n",
       "      <th></th>\n",
       "      <th colspan=\"7\" halign=\"left\">Mask F-score</th>\n",
       "    </tr>\n",
       "    <tr>\n",
       "      <th>ann_gt</th>\n",
       "      <th>0</th>\n",
       "      <th>1</th>\n",
       "      <th>2</th>\n",
       "      <th>4</th>\n",
       "      <th>5</th>\n",
       "      <th>6</th>\n",
       "      <th>7</th>\n",
       "    </tr>\n",
       "    <tr>\n",
       "      <th>ann_pred</th>\n",
       "      <th></th>\n",
       "      <th></th>\n",
       "      <th></th>\n",
       "      <th></th>\n",
       "      <th></th>\n",
       "      <th></th>\n",
       "      <th></th>\n",
       "    </tr>\n",
       "  </thead>\n",
       "  <tbody>\n",
       "    <tr>\n",
       "      <th>0</th>\n",
       "      <td>1.00</td>\n",
       "      <td>0.52</td>\n",
       "      <td>0.73</td>\n",
       "      <td>0.85</td>\n",
       "      <td>0.83</td>\n",
       "      <td>0.81</td>\n",
       "      <td>0.80</td>\n",
       "    </tr>\n",
       "    <tr>\n",
       "      <th>1</th>\n",
       "      <td>0.52</td>\n",
       "      <td>1.00</td>\n",
       "      <td>0.59</td>\n",
       "      <td>0.52</td>\n",
       "      <td>0.52</td>\n",
       "      <td>0.43</td>\n",
       "      <td>0.44</td>\n",
       "    </tr>\n",
       "    <tr>\n",
       "      <th>2</th>\n",
       "      <td>0.73</td>\n",
       "      <td>0.59</td>\n",
       "      <td>1.00</td>\n",
       "      <td>0.71</td>\n",
       "      <td>0.72</td>\n",
       "      <td>0.64</td>\n",
       "      <td>0.64</td>\n",
       "    </tr>\n",
       "    <tr>\n",
       "      <th>4</th>\n",
       "      <td>0.85</td>\n",
       "      <td>0.52</td>\n",
       "      <td>0.71</td>\n",
       "      <td>1.00</td>\n",
       "      <td>0.83</td>\n",
       "      <td>0.83</td>\n",
       "      <td>0.84</td>\n",
       "    </tr>\n",
       "    <tr>\n",
       "      <th>5</th>\n",
       "      <td>0.83</td>\n",
       "      <td>0.52</td>\n",
       "      <td>0.72</td>\n",
       "      <td>0.83</td>\n",
       "      <td>1.00</td>\n",
       "      <td>0.79</td>\n",
       "      <td>0.79</td>\n",
       "    </tr>\n",
       "    <tr>\n",
       "      <th>6</th>\n",
       "      <td>0.81</td>\n",
       "      <td>0.43</td>\n",
       "      <td>0.64</td>\n",
       "      <td>0.83</td>\n",
       "      <td>0.79</td>\n",
       "      <td>1.00</td>\n",
       "      <td>0.86</td>\n",
       "    </tr>\n",
       "    <tr>\n",
       "      <th>7</th>\n",
       "      <td>0.80</td>\n",
       "      <td>0.44</td>\n",
       "      <td>0.64</td>\n",
       "      <td>0.84</td>\n",
       "      <td>0.79</td>\n",
       "      <td>0.86</td>\n",
       "      <td>1.00</td>\n",
       "    </tr>\n",
       "  </tbody>\n",
       "</table>\n",
       "</div>"
      ],
      "text/plain": [
       "         Mask F-score                                    \n",
       "ann_gt              0     1     2     4     5     6     7\n",
       "ann_pred                                                 \n",
       "0                1.00  0.52  0.73  0.85  0.83  0.81  0.80\n",
       "1                0.52  1.00  0.59  0.52  0.52  0.43  0.44\n",
       "2                0.73  0.59  1.00  0.71  0.72  0.64  0.64\n",
       "4                0.85  0.52  0.71  1.00  0.83  0.83  0.84\n",
       "5                0.83  0.52  0.72  0.83  1.00  0.79  0.79\n",
       "6                0.81  0.43  0.64  0.83  0.79  1.00  0.86\n",
       "7                0.80  0.44  0.64  0.84  0.79  0.86  1.00"
      ]
     },
     "execution_count": 20,
     "metadata": {},
     "output_type": "execute_result"
    }
   ],
   "source": [
    "mask_metrics[[\"Mask F-score\"]].fillna(1).apply(lambda x: round(x,2))"
   ]
  },
  {
   "cell_type": "code",
   "execution_count": 21,
   "id": "spanish-robin",
   "metadata": {},
   "outputs": [
    {
     "data": {
      "text/html": [
       "<div>\n",
       "<style scoped>\n",
       "    .dataframe tbody tr th:only-of-type {\n",
       "        vertical-align: middle;\n",
       "    }\n",
       "\n",
       "    .dataframe tbody tr th {\n",
       "        vertical-align: top;\n",
       "    }\n",
       "\n",
       "    .dataframe thead tr th {\n",
       "        text-align: left;\n",
       "    }\n",
       "\n",
       "    .dataframe thead tr:last-of-type th {\n",
       "        text-align: right;\n",
       "    }\n",
       "</style>\n",
       "<table border=\"1\" class=\"dataframe\">\n",
       "  <thead>\n",
       "    <tr>\n",
       "      <th></th>\n",
       "      <th colspan=\"7\" halign=\"left\">Recall (iou threshold=0.7)</th>\n",
       "    </tr>\n",
       "    <tr>\n",
       "      <th>annotator_gt</th>\n",
       "      <th>0</th>\n",
       "      <th>1</th>\n",
       "      <th>2</th>\n",
       "      <th>4</th>\n",
       "      <th>5</th>\n",
       "      <th>6</th>\n",
       "      <th>7</th>\n",
       "    </tr>\n",
       "    <tr>\n",
       "      <th>annotator_pred</th>\n",
       "      <th></th>\n",
       "      <th></th>\n",
       "      <th></th>\n",
       "      <th></th>\n",
       "      <th></th>\n",
       "      <th></th>\n",
       "      <th></th>\n",
       "    </tr>\n",
       "  </thead>\n",
       "  <tbody>\n",
       "    <tr>\n",
       "      <th>0</th>\n",
       "      <td>1.00</td>\n",
       "      <td>0.02</td>\n",
       "      <td>0.28</td>\n",
       "      <td>0.44</td>\n",
       "      <td>0.42</td>\n",
       "      <td>0.47</td>\n",
       "      <td>0.37</td>\n",
       "    </tr>\n",
       "    <tr>\n",
       "      <th>1</th>\n",
       "      <td>0.06</td>\n",
       "      <td>1.00</td>\n",
       "      <td>0.10</td>\n",
       "      <td>0.06</td>\n",
       "      <td>0.06</td>\n",
       "      <td>0.05</td>\n",
       "      <td>0.06</td>\n",
       "    </tr>\n",
       "    <tr>\n",
       "      <th>2</th>\n",
       "      <td>0.30</td>\n",
       "      <td>0.04</td>\n",
       "      <td>1.00</td>\n",
       "      <td>0.21</td>\n",
       "      <td>0.23</td>\n",
       "      <td>0.18</td>\n",
       "      <td>0.15</td>\n",
       "    </tr>\n",
       "    <tr>\n",
       "      <th>4</th>\n",
       "      <td>0.54</td>\n",
       "      <td>0.02</td>\n",
       "      <td>0.25</td>\n",
       "      <td>1.00</td>\n",
       "      <td>0.38</td>\n",
       "      <td>0.46</td>\n",
       "      <td>0.46</td>\n",
       "    </tr>\n",
       "    <tr>\n",
       "      <th>5</th>\n",
       "      <td>0.48</td>\n",
       "      <td>0.01</td>\n",
       "      <td>0.25</td>\n",
       "      <td>0.35</td>\n",
       "      <td>1.00</td>\n",
       "      <td>0.40</td>\n",
       "      <td>0.34</td>\n",
       "    </tr>\n",
       "    <tr>\n",
       "      <th>6</th>\n",
       "      <td>0.49</td>\n",
       "      <td>0.00</td>\n",
       "      <td>0.18</td>\n",
       "      <td>0.40</td>\n",
       "      <td>0.38</td>\n",
       "      <td>1.00</td>\n",
       "      <td>0.48</td>\n",
       "    </tr>\n",
       "    <tr>\n",
       "      <th>7</th>\n",
       "      <td>0.40</td>\n",
       "      <td>0.01</td>\n",
       "      <td>0.17</td>\n",
       "      <td>0.40</td>\n",
       "      <td>0.33</td>\n",
       "      <td>0.48</td>\n",
       "      <td>1.00</td>\n",
       "    </tr>\n",
       "  </tbody>\n",
       "</table>\n",
       "</div>"
      ],
      "text/plain": [
       "               Recall (iou threshold=0.7)                                    \n",
       "annotator_gt                            0     1     2     4     5     6     7\n",
       "annotator_pred                                                               \n",
       "0                                    1.00  0.02  0.28  0.44  0.42  0.47  0.37\n",
       "1                                    0.06  1.00  0.10  0.06  0.06  0.05  0.06\n",
       "2                                    0.30  0.04  1.00  0.21  0.23  0.18  0.15\n",
       "4                                    0.54  0.02  0.25  1.00  0.38  0.46  0.46\n",
       "5                                    0.48  0.01  0.25  0.35  1.00  0.40  0.34\n",
       "6                                    0.49  0.00  0.18  0.40  0.38  1.00  0.48\n",
       "7                                    0.40  0.01  0.17  0.40  0.33  0.48  1.00"
      ]
     },
     "execution_count": 21,
     "metadata": {},
     "output_type": "execute_result"
    }
   ],
   "source": [
    "overlap_bbox = pd.pivot_table(\n",
    "    d_iou.groupby(\n",
    "        ['filename','annotator_1', 'annotator_2', 'bbox_1_id']\n",
    "    )['iou'].apply(lambda x: int(any(x > 0.7))).groupby(\n",
    "        ['annotator_1', 'annotator_2']\n",
    "    ).mean().to_frame().reset_index().rename({\n",
    "        'iou': 'Recall (iou threshold=0.7)',\n",
    "        'annotator_1': 'annotator_gt',\n",
    "        'annotator_2': 'annotator_pred',\n",
    "    },axis=1),\n",
    "    index=['annotator_pred'], columns=[\"annotator_gt\"]\n",
    ")\n",
    "overlap_bbox.apply(lambda x: round(x,2))"
   ]
  },
  {
   "cell_type": "code",
   "execution_count": 22,
   "id": "armed-florence",
   "metadata": {},
   "outputs": [],
   "source": [
    "f1_matrix = overlap_bbox.copy()\n",
    "for i in range(overlap_bbox.shape[0]):\n",
    "    for j in range(overlap_bbox.shape[1]):\n",
    "        f1_matrix.values[i][j] = hmean([overlap_bbox.values[i][j], overlap_bbox.values[j][i]])\n",
    "f1_matrix = f1_matrix.rename({'Recall (iou threshold=0.7)': f'F1-score (threshold={IOU_THRESHOLD})'},axis=1)"
   ]
  },
  {
   "cell_type": "code",
   "execution_count": 23,
   "id": "binding-internet",
   "metadata": {},
   "outputs": [
    {
     "data": {
      "text/html": [
       "<div>\n",
       "<style scoped>\n",
       "    .dataframe tbody tr th:only-of-type {\n",
       "        vertical-align: middle;\n",
       "    }\n",
       "\n",
       "    .dataframe tbody tr th {\n",
       "        vertical-align: top;\n",
       "    }\n",
       "\n",
       "    .dataframe thead tr th {\n",
       "        text-align: left;\n",
       "    }\n",
       "\n",
       "    .dataframe thead tr:last-of-type th {\n",
       "        text-align: right;\n",
       "    }\n",
       "</style>\n",
       "<table border=\"1\" class=\"dataframe\">\n",
       "  <thead>\n",
       "    <tr>\n",
       "      <th></th>\n",
       "      <th colspan=\"7\" halign=\"left\">F1-score (threshold=0.7)</th>\n",
       "    </tr>\n",
       "    <tr>\n",
       "      <th>annotator_gt</th>\n",
       "      <th>0</th>\n",
       "      <th>1</th>\n",
       "      <th>2</th>\n",
       "      <th>4</th>\n",
       "      <th>5</th>\n",
       "      <th>6</th>\n",
       "      <th>7</th>\n",
       "    </tr>\n",
       "    <tr>\n",
       "      <th>annotator_pred</th>\n",
       "      <th></th>\n",
       "      <th></th>\n",
       "      <th></th>\n",
       "      <th></th>\n",
       "      <th></th>\n",
       "      <th></th>\n",
       "      <th></th>\n",
       "    </tr>\n",
       "  </thead>\n",
       "  <tbody>\n",
       "    <tr>\n",
       "      <th>0</th>\n",
       "      <td>1.00</td>\n",
       "      <td>0.03</td>\n",
       "      <td>0.29</td>\n",
       "      <td>0.48</td>\n",
       "      <td>0.45</td>\n",
       "      <td>0.48</td>\n",
       "      <td>0.38</td>\n",
       "    </tr>\n",
       "    <tr>\n",
       "      <th>1</th>\n",
       "      <td>0.03</td>\n",
       "      <td>1.00</td>\n",
       "      <td>0.06</td>\n",
       "      <td>0.02</td>\n",
       "      <td>0.02</td>\n",
       "      <td>0.01</td>\n",
       "      <td>0.01</td>\n",
       "    </tr>\n",
       "    <tr>\n",
       "      <th>2</th>\n",
       "      <td>0.29</td>\n",
       "      <td>0.06</td>\n",
       "      <td>1.00</td>\n",
       "      <td>0.23</td>\n",
       "      <td>0.24</td>\n",
       "      <td>0.18</td>\n",
       "      <td>0.16</td>\n",
       "    </tr>\n",
       "    <tr>\n",
       "      <th>4</th>\n",
       "      <td>0.48</td>\n",
       "      <td>0.02</td>\n",
       "      <td>0.23</td>\n",
       "      <td>1.00</td>\n",
       "      <td>0.36</td>\n",
       "      <td>0.43</td>\n",
       "      <td>0.43</td>\n",
       "    </tr>\n",
       "    <tr>\n",
       "      <th>5</th>\n",
       "      <td>0.45</td>\n",
       "      <td>0.02</td>\n",
       "      <td>0.24</td>\n",
       "      <td>0.36</td>\n",
       "      <td>1.00</td>\n",
       "      <td>0.39</td>\n",
       "      <td>0.34</td>\n",
       "    </tr>\n",
       "    <tr>\n",
       "      <th>6</th>\n",
       "      <td>0.48</td>\n",
       "      <td>0.01</td>\n",
       "      <td>0.18</td>\n",
       "      <td>0.43</td>\n",
       "      <td>0.39</td>\n",
       "      <td>1.00</td>\n",
       "      <td>0.48</td>\n",
       "    </tr>\n",
       "    <tr>\n",
       "      <th>7</th>\n",
       "      <td>0.38</td>\n",
       "      <td>0.01</td>\n",
       "      <td>0.16</td>\n",
       "      <td>0.43</td>\n",
       "      <td>0.34</td>\n",
       "      <td>0.48</td>\n",
       "      <td>1.00</td>\n",
       "    </tr>\n",
       "  </tbody>\n",
       "</table>\n",
       "</div>"
      ],
      "text/plain": [
       "               F1-score (threshold=0.7)                                    \n",
       "annotator_gt                          0     1     2     4     5     6     7\n",
       "annotator_pred                                                             \n",
       "0                                  1.00  0.03  0.29  0.48  0.45  0.48  0.38\n",
       "1                                  0.03  1.00  0.06  0.02  0.02  0.01  0.01\n",
       "2                                  0.29  0.06  1.00  0.23  0.24  0.18  0.16\n",
       "4                                  0.48  0.02  0.23  1.00  0.36  0.43  0.43\n",
       "5                                  0.45  0.02  0.24  0.36  1.00  0.39  0.34\n",
       "6                                  0.48  0.01  0.18  0.43  0.39  1.00  0.48\n",
       "7                                  0.38  0.01  0.16  0.43  0.34  0.48  1.00"
      ]
     },
     "execution_count": 23,
     "metadata": {},
     "output_type": "execute_result"
    }
   ],
   "source": [
    "f1_matrix.apply(lambda x: round(x,2))"
   ]
  },
  {
   "cell_type": "code",
   "execution_count": 24,
   "id": "similar-container",
   "metadata": {},
   "outputs": [],
   "source": [
    "annotators_mapped_iou = d_iou.copy()\n",
    "annotators = [0,4,5,6]\n",
    "annotators_mapped_iou = annotators_mapped_iou[\n",
    "    annotators_mapped_iou['annotator_1'].isin(annotators) & annotators_mapped_iou['annotator_2'].isin(annotators) \n",
    "    & (annotators_mapped_iou['annotator_1'] != annotators_mapped_iou['annotator_2'])\n",
    "]\n",
    "copy = annotators_mapped_iou.copy()\n",
    "annotators_mapped_iou[\"annotator_2\"] = ','.join(map(str,annotators))\n",
    "copy[\"annotator_1\"] = ','.join(map(str,annotators))\n",
    "annotators_mapped_iou = pd.concat([\n",
    "    annotators_mapped_iou,\n",
    "    copy\n",
    "])\n",
    "overlap_bbox_ann = pd.pivot_table(\n",
    "    annotators_mapped_iou.groupby(\n",
    "        ['filename','annotator_1', 'annotator_2', 'bbox_1_id']\n",
    "    )['iou'].apply(lambda x: int(any(x > 0.7))).groupby(\n",
    "        ['annotator_1', 'annotator_2']\n",
    "    ).mean().to_frame().reset_index().rename({\n",
    "        'iou': 'Precision(iou threshold=0.7)',\n",
    "        'annotator_1': 'annotator_gt',\n",
    "        'annotator_2': 'annotator_pred',\n",
    "    },axis=1),\n",
    "    index=['annotator_gt'], columns=[\"annotator_pred\"]\n",
    ")"
   ]
  },
  {
   "cell_type": "markdown",
   "id": "impressive-ballot",
   "metadata": {},
   "source": [
    "Bounding box metrics (not mask metrics) for the set of annotators {0,4,5,6}: For each annotator, compare with the rest of annotations."
   ]
  },
  {
   "cell_type": "code",
   "execution_count": 25,
   "id": "extensive-dollar",
   "metadata": {},
   "outputs": [
    {
     "data": {
      "text/html": [
       "<div>\n",
       "<style scoped>\n",
       "    .dataframe tbody tr th:only-of-type {\n",
       "        vertical-align: middle;\n",
       "    }\n",
       "\n",
       "    .dataframe tbody tr th {\n",
       "        vertical-align: top;\n",
       "    }\n",
       "\n",
       "    .dataframe thead th {\n",
       "        text-align: right;\n",
       "    }\n",
       "</style>\n",
       "<table border=\"1\" class=\"dataframe\">\n",
       "  <thead>\n",
       "    <tr style=\"text-align: right;\">\n",
       "      <th></th>\n",
       "      <th>precision</th>\n",
       "      <th>recall</th>\n",
       "      <th>f1</th>\n",
       "    </tr>\n",
       "    <tr>\n",
       "      <th>annotator_gt</th>\n",
       "      <th></th>\n",
       "      <th></th>\n",
       "      <th></th>\n",
       "    </tr>\n",
       "  </thead>\n",
       "  <tbody>\n",
       "    <tr>\n",
       "      <th>0</th>\n",
       "      <td>0.738306</td>\n",
       "      <td>0.676523</td>\n",
       "      <td>0.706066</td>\n",
       "    </tr>\n",
       "    <tr>\n",
       "      <th>4</th>\n",
       "      <td>0.560953</td>\n",
       "      <td>0.724806</td>\n",
       "      <td>0.632439</td>\n",
       "    </tr>\n",
       "    <tr>\n",
       "      <th>5</th>\n",
       "      <td>0.577982</td>\n",
       "      <td>0.620311</td>\n",
       "      <td>0.598399</td>\n",
       "    </tr>\n",
       "    <tr>\n",
       "      <th>6</th>\n",
       "      <td>0.632951</td>\n",
       "      <td>0.667254</td>\n",
       "      <td>0.649650</td>\n",
       "    </tr>\n",
       "  </tbody>\n",
       "</table>\n",
       "</div>"
      ],
      "text/plain": [
       "              precision    recall        f1\n",
       "annotator_gt                               \n",
       "0              0.738306  0.676523  0.706066\n",
       "4              0.560953  0.724806  0.632439\n",
       "5              0.577982  0.620311  0.598399\n",
       "6              0.632951  0.667254  0.649650"
      ]
     },
     "execution_count": 25,
     "metadata": {},
     "output_type": "execute_result"
    }
   ],
   "source": [
    "precision = overlap_bbox_ann.iloc[:-1,-1]\n",
    "recall = overlap_bbox_ann.iloc[-1,:-1]\n",
    "\n",
    "f1_score = [hmean([p, r]) for p, r in zip(precision.values, recall.values)]\n",
    "pd.DataFrame({\"precision\": precision.values, \"recall\": recall.values, \"f1\": f1_score}, index = precision.index)"
   ]
  },
  {
   "cell_type": "code",
   "execution_count": 26,
   "id": "subsequent-classroom",
   "metadata": {
    "tags": []
   },
   "outputs": [
    {
     "data": {
      "image/png": "[encoded data removed]",
      "text/plain": [
       "<Figure size 720x2160 with 8 Axes>"
      ]
     },
     "metadata": {
      "needs_background": "light"
     },
     "output_type": "display_data"
    }
   ],
   "source": [
    "fig, ax = plt.subplots(8, figsize=(10,30))\n",
    "plt.suptitle('Distribution of IoU between closest bounding boxes of the other annotators',fontsize=20)\n",
    "x = np.arange(0,1,0.05)\n",
    "for ann in range(8):\n",
    "    ax[ann].set_title(f'Annotator {ann}')\n",
    "    d = d_iou[(d_iou.annotator_1 == ann) & (d_iou.annotator_2 != ann)].groupby(['filename','bbox_1_id', 'annotator_2']).max()\n",
    "    sns.histplot(d[(d.annotator_1 == ann)].iou, ax=ax[ann])\n",
    "fig.subplots_adjust(top=0.96)\n",
    "plt.show()"
   ]
  },
  {
   "cell_type": "code",
   "execution_count": 27,
   "id": "boring-growing",
   "metadata": {
    "tags": []
   },
   "outputs": [
    {
     "data": {
      "image/png": "[encoded data removed]",
      "text/plain": [
       "<Figure size 720x2160 with 8 Axes>"
      ]
     },
     "metadata": {
      "needs_background": "light"
     },
     "output_type": "display_data"
    }
   ],
   "source": [
    "fig, ax = plt.subplots(8, figsize=(10,30))\n",
    "plt.suptitle('Distribution of bbox areas',fontsize=20)\n",
    "x = np.arange(0,1,0.05)\n",
    "for ann in range(8):\n",
    "    ax[ann].set_title(f'Annotator {ann}')\n",
    "    areas_bbox = d_iou[(d_iou.annotator_1 == ann) & (d_iou.annotator_2 != ann)].groupby(['filename','bbox_1_id', 'annotator_1'])['area_1'].mean()\n",
    "    sns.histplot(areas_bbox, ax=ax[ann])\n",
    "    ax[ann].annotate(f\"Median = {round(areas_bbox.median(),2)}\", xy=(0.6,0.85), xytext=(0.7, 0.85), textcoords='axes fraction',fontsize=13)\n",
    "for ax_i in ax:\n",
    "    ax_i.sharex(ax[0])\n",
    "fig.subplots_adjust(top=0.96)\n",
    "plt.show()"
   ]
  },
  {
   "cell_type": "markdown",
   "id": "activated-outreach",
   "metadata": {},
   "source": [
    "Some annotators overlap bounding boxes within the same image. In general, this is an issue when training the object detection model.\n",
    "\n",
    "Annotator 7 has much more overlap."
   ]
  },
  {
   "cell_type": "code",
   "execution_count": 28,
   "id": "structural-cable",
   "metadata": {},
   "outputs": [
    {
     "data": {
      "image/png": "[encoded data removed]",
      "text/plain": [
       "<Figure size 720x2160 with 8 Axes>"
      ]
     },
     "metadata": {
      "needs_background": "light"
     },
     "output_type": "display_data"
    }
   ],
   "source": [
    "fig, ax = plt.subplots(8, figsize=(10,30))\n",
    "plt.suptitle('Distribution of max overlap for each bbox within its annotations',fontsize=20)\n",
    "x = np.arange(0,1,0.05)\n",
    "for ann in range(8):\n",
    "    ax[ann].set_title(f'Annotator {ann}')\n",
    "    overlap_bbox = d_iou[(d_iou.annotator_1 == ann) & (d_iou.annotator_2 == ann) & (d_iou.iou < 0.95) & (d_iou.iou > -0.01)].groupby(['filename','bbox_1_id', 'annotator_1'])['iou'].max()\n",
    "    sns.histplot(overlap_bbox, ax=ax[ann], stat='density')\n",
    "for ax_i in ax:\n",
    "    ax_i.sharex(ax[-1])\n",
    "fig.subplots_adjust(top=0.96)\n",
    "plt.show()"
   ]
  },
  {
   "cell_type": "code",
   "execution_count": 29,
   "id": "extreme-template",
   "metadata": {},
   "outputs": [
    {
     "data": {
      "image/png": "[encoded data removed]",
      "text/plain": [
       "<Figure size 432x288 with 1 Axes>"
      ]
     },
     "metadata": {
      "needs_background": "light"
     },
     "output_type": "display_data"
    }
   ],
   "source": [
    "areas_bbox = d_iou[(d_iou.annotator_1 == d_iou.annotator_2)].groupby(['filename','bbox_1_id', 'annotator_1'])['area_1'].mean()\n",
    "sns.histplot(areas_bbox, stat='density', bins=80)\n",
    "plt.title('Area Distribution across annotators')\n",
    "plt.xlabel('Area')\n",
    "plt.show()"
   ]
  },
  {
   "cell_type": "code",
   "execution_count": 30,
   "id": "revolutionary-counter",
   "metadata": {},
   "outputs": [
    {
     "data": {
      "image/png": "[encoded data removed]",
      "text/plain": [
       "<Figure size 432x288 with 1 Axes>"
      ]
     },
     "metadata": {
      "needs_background": "light"
     },
     "output_type": "display_data"
    }
   ],
   "source": [
    "areas_bbox = d_iou[(d_iou.annotator_1 == d_iou.annotator_2)].groupby(['filename','bbox_1_id', 'annotator_1'])['area_1'].mean()\n",
    "sns.histplot(areas_bbox[areas_bbox < 5000], stat='density', bins=80)\n",
    "plt.title('Area Distribution across annotators (area < 5000)')\n",
    "plt.xlabel('Area')\n",
    "plt.show()"
   ]
  },
  {
   "cell_type": "code",
   "execution_count": 31,
   "id": "received-cooperative",
   "metadata": {},
   "outputs": [],
   "source": [
    "colors_annotators = ['blue','red','pink','brown','purple','grey', 'white', 'yellow']"
   ]
  },
  {
   "cell_type": "code",
   "execution_count": 32,
   "id": "outdoor-capitol",
   "metadata": {},
   "outputs": [
    {
     "data": {
      "text/plain": [
       "[(0, 'blue'),\n",
       " (1, 'red'),\n",
       " (2, 'pink'),\n",
       " (3, 'brown'),\n",
       " (4, 'purple'),\n",
       " (5, 'grey'),\n",
       " (6, 'white'),\n",
       " (7, 'yellow')]"
      ]
     },
     "execution_count": 32,
     "metadata": {},
     "output_type": "execute_result"
    }
   ],
   "source": [
    "list(enumerate(colors_annotators))"
   ]
  },
  {
   "cell_type": "markdown",
   "id": "under-testament",
   "metadata": {},
   "source": [
    "Some pictures with its annotations and the annotator's corresponding color."
   ]
  },
  {
   "cell_type": "code",
   "execution_count": null,
   "id": "saving-cattle",
   "metadata": {},
   "outputs": [],
   "source": [
    "for image_id in image_ids[1:2]:\n",
    "    print(image_id)\n",
    "    display_image_w_bbox(image_id,colors_annotators=colors_annotators)"
   ]
  },
  {
   "cell_type": "code",
   "execution_count": null,
   "id": "forced-candidate",
   "metadata": {},
   "outputs": [],
   "source": [
    "for image_id in image_ids[:2]:\n",
    "    display_image_w_bbox(image_id, annotators=[0,2,7])"
   ]
  }
 ],
 "metadata": {
  "kernelspec": {
   "display_name": "Python 3",
   "language": "python",
   "name": "python3"
  },
  "language_info": {
   "codemirror_mode": {
    "name": "ipython",
    "version": 3
   },
   "file_extension": ".py",
   "mimetype": "text/x-python",
   "name": "python",
   "nbconvert_exporter": "python",
   "pygments_lexer": "ipython3",
   "version": "3.6.9"
  }
 },
 "nbformat": 4,
 "nbformat_minor": 5
}
